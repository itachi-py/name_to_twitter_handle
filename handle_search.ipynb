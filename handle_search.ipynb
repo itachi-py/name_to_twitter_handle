{
 "cells": [
  {
   "cell_type": "code",
   "execution_count": null,
   "id": "489dcbe2",
   "metadata": {
    "scrolled": true
   },
   "outputs": [],
   "source": [
    "!pip3 install googlesearch-python\n",
    "!pip3 install pandas"
   ]
  },
  {
   "cell_type": "code",
   "execution_count": 10,
   "id": "ad5f649f",
   "metadata": {},
   "outputs": [],
   "source": [
    "from googlesearch import search\n",
    "import pandas as pd"
   ]
  },
  {
   "cell_type": "code",
   "execution_count": 13,
   "id": "74a7566e",
   "metadata": {},
   "outputs": [],
   "source": [
    "filename = \"user.csv\"\n",
    "df = pd.read_csv(filename)"
   ]
  },
  {
   "cell_type": "code",
   "execution_count": 24,
   "id": "9d7f0280",
   "metadata": {},
   "outputs": [],
   "source": [
    "org_name = \"save the children\"\n",
    "\n",
    "search_for = \"twitter\"\n",
    "\n",
    "remove_from_link = \"https://twitter.com/\""
   ]
  },
  {
   "cell_type": "code",
   "execution_count": 27,
   "id": "4b3985de",
   "metadata": {},
   "outputs": [
    {
     "name": "stdout",
     "output_type": "stream",
     "text": [
      "https://twitter.com/saveceo_us\n",
      "saveceo_us\n",
      "https://twitter.com/ciosarah\n",
      "ciosarah\n",
      "https://twitter.com/dbarth1999?lang=en\n",
      "dbarth1999\n",
      "https://twitter.com/LucianaBonifac/with_replies\n",
      "LucianaBonifac  \n",
      "https://www.savethechildren.org/us/about-us/leadership-and-trustees/greg-ferrante\n",
      "NO RESULT\n",
      "https://twitter.com/christygleason\n",
      "christygleason\n",
      "https://twitter.com/enorris13?lang=en\n",
      "enorris13\n",
      "https://www.savethechildren.org/us/about-us/leadership-and-trustees/jennifer-roberti\n",
      "NO RESULT\n",
      "https://twitter.com/actorbrianwhite?lang=en\n",
      "actorbrianwhite\n",
      "https://www.savethechildren.org/us/about-us/leadership-and-trustees/andrea-williamson\n",
      "NO RESULT\n",
      "https://twitter.com/bzorio?lang=en\n",
      "bzorio\n"
     ]
    }
   ],
   "source": [
    "handles = []\n",
    "links = []\n",
    "names = []\n",
    "\n",
    "for index, row in df.iterrows():\n",
    "    search_result = []\n",
    "    user = row[\"user\"]\n",
    "    names.append(user)\n",
    "    query = user + \" \" + org_name + \" \" + search_for\n",
    "    for result in search(query):\n",
    "        search_result.append(result)\n",
    "    top_link = search_result[0]\n",
    "    links.append(top_link)\n",
    "    if(\"twitter\" in str(top_link)):\n",
    "        handle = top_link.replace(remove_from_link, \"\").replace(\"?lang=en\", \"\").replace(\"with_replies\", \" \").replace(\"/\", \" \")\n",
    "    else:\n",
    "        handle = \"NO RESULT\"\n",
    "    handles.append(handle)   "
   ]
  },
  {
   "cell_type": "code",
   "execution_count": 29,
   "id": "df8d7b93",
   "metadata": {},
   "outputs": [],
   "source": [
    "result = pd.DataFrame([names, handles, links])\n",
    "result = result.transpose()\n",
    "result.to_csv(\"results.csv\")"
   ]
  },
  {
   "cell_type": "code",
   "execution_count": null,
   "id": "ee0216b2",
   "metadata": {},
   "outputs": [],
   "source": []
  }
 ],
 "metadata": {
  "kernelspec": {
   "display_name": "Python 3 (ipykernel)",
   "language": "python",
   "name": "python3"
  },
  "language_info": {
   "codemirror_mode": {
    "name": "ipython",
    "version": 3
   },
   "file_extension": ".py",
   "mimetype": "text/x-python",
   "name": "python",
   "nbconvert_exporter": "python",
   "pygments_lexer": "ipython3",
   "version": "3.8.9"
  }
 },
 "nbformat": 4,
 "nbformat_minor": 5
}
